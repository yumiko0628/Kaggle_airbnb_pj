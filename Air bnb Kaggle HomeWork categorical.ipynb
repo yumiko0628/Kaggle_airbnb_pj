{
 "cells": [
  {
   "cell_type": "markdown",
   "metadata": {},
   "source": [
    "# Air bnb Kaggle HomeWork"
   ]
  },
  {
   "cell_type": "code",
   "execution_count": 86,
   "metadata": {},
   "outputs": [],
   "source": [
    "# import package and libralies\n",
    "import pandas as pd\n",
    "import numpy as np\n",
    "from sklearn.ensemble import RandomForestClassifier\n",
    "from sklearn.cross_validation import KFold\n",
    "from scipy.stats import spearmanr"
   ]
  },
  {
   "cell_type": "code",
   "execution_count": 87,
   "metadata": {
    "scrolled": true
   },
   "outputs": [
    {
     "data": {
      "text/plain": [
       "((213451, 16), (62096, 15))"
      ]
     },
     "execution_count": 87,
     "metadata": {},
     "output_type": "execute_result"
    }
   ],
   "source": [
    "# データ読み込み\n",
    "df_train = pd.read_csv(\"C:/Users/kashiwabara_a/Desktop/text books/20180310_machine-learning-project-master/HW/train_users.csv\")\n",
    "df_test = pd.read_csv(\"C:/Users/kashiwabara_a/Desktop/text books/20180310_machine-learning-project-master/HW/test_users.csv\")\n",
    "df_train.shape, df_test.shape"
   ]
  },
  {
   "cell_type": "code",
   "execution_count": 88,
   "metadata": {},
   "outputs": [],
   "source": [
    "# テストデータに\"country_destination\"カラムを追加し、NAで埋める\n",
    "df_test[\"country_destination\"] = np.nan\n",
    "# union train and test\n",
    "df_whole= pd.concat([df_train, df_test], axis=0)"
   ]
  },
  {
   "cell_type": "markdown",
   "metadata": {},
   "source": [
    "# 欠測値処理"
   ]
  },
  {
   "cell_type": "code",
   "execution_count": 89,
   "metadata": {
    "collapsed": true
   },
   "outputs": [],
   "source": [
    "# ageの欠測を平均値で補完\n",
    "df_whole.age=df_whole.age.fillna(df_whole.age.mean())"
   ]
  },
  {
   "cell_type": "code",
   "execution_count": 90,
   "metadata": {
    "collapsed": true
   },
   "outputs": [],
   "source": [
    "# 各特徴量について加工をしていく\n",
    "\n",
    "# date_account_createdについて、年月日に分割する\n",
    "df_whole[\"Year_account_created\"]=df_whole['date_account_created'].apply(lambda x:x[:4])\n",
    "df_whole[\"Month_account_created\"]=df_whole['date_account_created'].apply(lambda x:int(x[5:7]))\n",
    "df_whole[\"Day_account_created\"]=df_whole['date_account_created'].apply(lambda x:int(x[8:]))\n",
    "\n",
    "# timestamp_first_activeについて、年月日に分割する\n",
    "df_whole.timestamp_first_active = df_whole.timestamp_first_active.apply(str)\n",
    "df_whole[\"Year_first_active\"]=df_whole['timestamp_first_active'].apply(lambda x:x[:4])\n",
    "df_whole[\"Month_first_active\"]=df_whole['timestamp_first_active'].apply(lambda x:int(x[4:6]))\n",
    "df_whole[\"Day_first_active\"]=df_whole['timestamp_first_active'].apply(lambda x:int(x[6:8]))\n",
    "df_whole[\"Time_first_active\"]=df_whole['timestamp_first_active'].apply(lambda x:int(x[8:10]))"
   ]
  },
  {
   "cell_type": "code",
   "execution_count": 91,
   "metadata": {
    "collapsed": true
   },
   "outputs": [],
   "source": [
    "target_col = ['age', \"Year_account_created\", \"Month_account_created\", \"Day_account_created\", \"Year_first_active\",\n",
    "             \"Month_first_active\", \"Day_first_active\", \"Time_first_active\"]"
   ]
  },
  {
   "cell_type": "code",
   "execution_count": 92,
   "metadata": {},
   "outputs": [
    {
     "name": "stdout",
     "output_type": "stream",
     "text": [
      "<class 'pandas.core.series.Series'>\n",
      "<class 'pandas.core.series.Series'>\n"
     ]
    }
   ],
   "source": [
    "print(type(df_whole[\"Year_first_active\"]))\n",
    "df_whole[\"Year_first_active\"] = df_whole[\"Year_first_active\"].astype('int')\n",
    "print(type(df_whole[\"Year_first_active\"]))"
   ]
  },
  {
   "cell_type": "code",
   "execution_count": 84,
   "metadata": {},
   "outputs": [
    {
     "name": "stdout",
     "output_type": "stream",
     "text": [
      "age\n",
      "Year_account_created\n",
      "Month_account_created\n",
      "Day_account_created\n",
      "Year_first_active\n",
      "Month_first_active\n",
      "Day_first_active\n"
     ]
    }
   ],
   "source": [
    "\n",
    "cutoff_r = 0.5\n",
    "new_added_col = []\n",
    "for i in range(0, len(target_col)-1):\n",
    "    print(target_col[i])\n",
    "    for j in range(i+1, len(target_col)):\n",
    "        first_col_name = target_col[i]\n",
    "        second_col_name = target_col[j]\n",
    "        df_whole[first_col_name] = df_whole[first_col_name].astype('int')\n",
    "        df_whole[second_col_name] = df_whole[second_col_name].astype('int')\n",
    "        r = spearmanr(df_whole[first_col_name], df_whole[second_col_name]).correlation\n",
    "        if abs(r) > cutoff_r:\n",
    "            new_colname = first_col_name + \"_div_\" + second_col_name\n",
    "            df_whole[new_colname] = df_whole[first_col_name] / (df_whole[second_col_name] + 0.01)\n",
    "            new_added_col.append(new_colname)"
   ]
  },
  {
   "cell_type": "code",
   "execution_count": 85,
   "metadata": {},
   "outputs": [
    {
     "data": {
      "text/html": [
       "<div>\n",
       "<style>\n",
       "    .dataframe thead tr:only-child th {\n",
       "        text-align: right;\n",
       "    }\n",
       "\n",
       "    .dataframe thead th {\n",
       "        text-align: left;\n",
       "    }\n",
       "\n",
       "    .dataframe tbody tr th {\n",
       "        vertical-align: top;\n",
       "    }\n",
       "</style>\n",
       "<table border=\"1\" class=\"dataframe\">\n",
       "  <thead>\n",
       "    <tr style=\"text-align: right;\">\n",
       "      <th></th>\n",
       "      <th>id</th>\n",
       "      <th>date_account_created</th>\n",
       "      <th>timestamp_first_active</th>\n",
       "      <th>date_first_booking</th>\n",
       "      <th>gender</th>\n",
       "      <th>age</th>\n",
       "      <th>signup_method</th>\n",
       "      <th>signup_flow</th>\n",
       "      <th>language</th>\n",
       "      <th>affiliate_channel</th>\n",
       "      <th>...</th>\n",
       "      <th>Year_account_created</th>\n",
       "      <th>Month_account_created</th>\n",
       "      <th>Day_account_created</th>\n",
       "      <th>Year_first_active</th>\n",
       "      <th>Month_first_active</th>\n",
       "      <th>Day_first_active</th>\n",
       "      <th>Time_first_active</th>\n",
       "      <th>Year_account_created_div_Year_first_active</th>\n",
       "      <th>Month_account_created_div_Month_first_active</th>\n",
       "      <th>Day_account_created_div_Day_first_active</th>\n",
       "    </tr>\n",
       "  </thead>\n",
       "  <tbody>\n",
       "    <tr>\n",
       "      <th>0</th>\n",
       "      <td>gxn3p5htnn</td>\n",
       "      <td>2010-06-28</td>\n",
       "      <td>20090319043255</td>\n",
       "      <td>NaN</td>\n",
       "      <td>-unknown-</td>\n",
       "      <td>47</td>\n",
       "      <td>facebook</td>\n",
       "      <td>0</td>\n",
       "      <td>en</td>\n",
       "      <td>direct</td>\n",
       "      <td>...</td>\n",
       "      <td>2010</td>\n",
       "      <td>6</td>\n",
       "      <td>28</td>\n",
       "      <td>2009</td>\n",
       "      <td>3</td>\n",
       "      <td>19</td>\n",
       "      <td>4</td>\n",
       "      <td>1.000493</td>\n",
       "      <td>1.993355</td>\n",
       "      <td>1.472909</td>\n",
       "    </tr>\n",
       "    <tr>\n",
       "      <th>1</th>\n",
       "      <td>820tgsjxq7</td>\n",
       "      <td>2011-05-25</td>\n",
       "      <td>20090523174809</td>\n",
       "      <td>NaN</td>\n",
       "      <td>MALE</td>\n",
       "      <td>38</td>\n",
       "      <td>facebook</td>\n",
       "      <td>0</td>\n",
       "      <td>en</td>\n",
       "      <td>seo</td>\n",
       "      <td>...</td>\n",
       "      <td>2011</td>\n",
       "      <td>5</td>\n",
       "      <td>25</td>\n",
       "      <td>2009</td>\n",
       "      <td>5</td>\n",
       "      <td>23</td>\n",
       "      <td>17</td>\n",
       "      <td>1.000991</td>\n",
       "      <td>0.998004</td>\n",
       "      <td>1.086484</td>\n",
       "    </tr>\n",
       "    <tr>\n",
       "      <th>2</th>\n",
       "      <td>4ft3gnwmtx</td>\n",
       "      <td>2010-09-28</td>\n",
       "      <td>20090609231247</td>\n",
       "      <td>2010-08-02</td>\n",
       "      <td>FEMALE</td>\n",
       "      <td>56</td>\n",
       "      <td>basic</td>\n",
       "      <td>3</td>\n",
       "      <td>en</td>\n",
       "      <td>direct</td>\n",
       "      <td>...</td>\n",
       "      <td>2010</td>\n",
       "      <td>9</td>\n",
       "      <td>28</td>\n",
       "      <td>2009</td>\n",
       "      <td>6</td>\n",
       "      <td>9</td>\n",
       "      <td>23</td>\n",
       "      <td>1.000493</td>\n",
       "      <td>1.497504</td>\n",
       "      <td>3.107658</td>\n",
       "    </tr>\n",
       "    <tr>\n",
       "      <th>3</th>\n",
       "      <td>bjjt8pjhuk</td>\n",
       "      <td>2011-12-05</td>\n",
       "      <td>20091031060129</td>\n",
       "      <td>2012-09-08</td>\n",
       "      <td>FEMALE</td>\n",
       "      <td>42</td>\n",
       "      <td>facebook</td>\n",
       "      <td>0</td>\n",
       "      <td>en</td>\n",
       "      <td>direct</td>\n",
       "      <td>...</td>\n",
       "      <td>2011</td>\n",
       "      <td>12</td>\n",
       "      <td>5</td>\n",
       "      <td>2009</td>\n",
       "      <td>10</td>\n",
       "      <td>31</td>\n",
       "      <td>6</td>\n",
       "      <td>1.000991</td>\n",
       "      <td>1.198801</td>\n",
       "      <td>0.161238</td>\n",
       "    </tr>\n",
       "    <tr>\n",
       "      <th>4</th>\n",
       "      <td>87mebub9p4</td>\n",
       "      <td>2010-09-14</td>\n",
       "      <td>20091208061105</td>\n",
       "      <td>2010-02-18</td>\n",
       "      <td>-unknown-</td>\n",
       "      <td>41</td>\n",
       "      <td>basic</td>\n",
       "      <td>0</td>\n",
       "      <td>en</td>\n",
       "      <td>direct</td>\n",
       "      <td>...</td>\n",
       "      <td>2010</td>\n",
       "      <td>9</td>\n",
       "      <td>14</td>\n",
       "      <td>2009</td>\n",
       "      <td>12</td>\n",
       "      <td>8</td>\n",
       "      <td>6</td>\n",
       "      <td>1.000493</td>\n",
       "      <td>0.749376</td>\n",
       "      <td>1.747815</td>\n",
       "    </tr>\n",
       "  </tbody>\n",
       "</table>\n",
       "<p>5 rows × 26 columns</p>\n",
       "</div>"
      ],
      "text/plain": [
       "           id date_account_created timestamp_first_active date_first_booking  \\\n",
       "0  gxn3p5htnn           2010-06-28         20090319043255                NaN   \n",
       "1  820tgsjxq7           2011-05-25         20090523174809                NaN   \n",
       "2  4ft3gnwmtx           2010-09-28         20090609231247         2010-08-02   \n",
       "3  bjjt8pjhuk           2011-12-05         20091031060129         2012-09-08   \n",
       "4  87mebub9p4           2010-09-14         20091208061105         2010-02-18   \n",
       "\n",
       "      gender  age signup_method  signup_flow language affiliate_channel  \\\n",
       "0  -unknown-   47      facebook            0       en            direct   \n",
       "1       MALE   38      facebook            0       en               seo   \n",
       "2     FEMALE   56         basic            3       en            direct   \n",
       "3     FEMALE   42      facebook            0       en            direct   \n",
       "4  -unknown-   41         basic            0       en            direct   \n",
       "\n",
       "                     ...                    Year_account_created  \\\n",
       "0                    ...                                    2010   \n",
       "1                    ...                                    2011   \n",
       "2                    ...                                    2010   \n",
       "3                    ...                                    2011   \n",
       "4                    ...                                    2010   \n",
       "\n",
       "  Month_account_created Day_account_created Year_first_active  \\\n",
       "0                     6                  28              2009   \n",
       "1                     5                  25              2009   \n",
       "2                     9                  28              2009   \n",
       "3                    12                   5              2009   \n",
       "4                     9                  14              2009   \n",
       "\n",
       "  Month_first_active Day_first_active  Time_first_active  \\\n",
       "0                  3               19                  4   \n",
       "1                  5               23                 17   \n",
       "2                  6                9                 23   \n",
       "3                 10               31                  6   \n",
       "4                 12                8                  6   \n",
       "\n",
       "   Year_account_created_div_Year_first_active  \\\n",
       "0                                    1.000493   \n",
       "1                                    1.000991   \n",
       "2                                    1.000493   \n",
       "3                                    1.000991   \n",
       "4                                    1.000493   \n",
       "\n",
       "   Month_account_created_div_Month_first_active  \\\n",
       "0                                      1.993355   \n",
       "1                                      0.998004   \n",
       "2                                      1.497504   \n",
       "3                                      1.198801   \n",
       "4                                      0.749376   \n",
       "\n",
       "   Day_account_created_div_Day_first_active  \n",
       "0                                  1.472909  \n",
       "1                                  1.086484  \n",
       "2                                  3.107658  \n",
       "3                                  0.161238  \n",
       "4                                  1.747815  \n",
       "\n",
       "[5 rows x 26 columns]"
      ]
     },
     "execution_count": 85,
     "metadata": {},
     "output_type": "execute_result"
    }
   ],
   "source": [
    "df_whole.head()"
   ]
  },
  {
   "cell_type": "code",
   "execution_count": 10,
   "metadata": {},
   "outputs": [
    {
     "data": {
      "text/plain": [
       "id                              0\n",
       "date_account_created            0\n",
       "timestamp_first_active          0\n",
       "date_first_booking         186639\n",
       "gender                          0\n",
       "age                             0\n",
       "signup_method                   0\n",
       "signup_flow                     0\n",
       "language                        0\n",
       "affiliate_channel               0\n",
       "affiliate_provider              0\n",
       "first_affiliate_tracked      6085\n",
       "signup_app                      0\n",
       "first_device_type               0\n",
       "first_browser                   0\n",
       "country_destination         62096\n",
       "Year_account_created            0\n",
       "Month_account_created           0\n",
       "Day_account_created             0\n",
       "Year_first_active               0\n",
       "Month_first_active              0\n",
       "Day_first_active                0\n",
       "Time_first_active               0\n",
       "dtype: int64"
      ]
     },
     "execution_count": 10,
     "metadata": {},
     "output_type": "execute_result"
    }
   ],
   "source": [
    "df_whole.isnull().sum()"
   ]
  },
  {
   "cell_type": "markdown",
   "metadata": {},
   "source": [
    "# クラスラベルのエンコーディング"
   ]
  },
  {
   "cell_type": "code",
   "execution_count": 9,
   "metadata": {
    "collapsed": true
   },
   "outputs": [],
   "source": [
    "df_whole_map = df_whole\n",
    "# first_affiliate_trackedのNaNを\"untracked\"で埋める\n",
    "df_whole_map[\"first_affiliate_tracked\"] = df_whole_map[\"first_affiliate_tracked\"].fillna('untracked')\n",
    "#df_whole[\"first_affiliate_tracked\"].isnull"
   ]
  },
  {
   "cell_type": "code",
   "execution_count": 10,
   "metadata": {
    "collapsed": true
   },
   "outputs": [],
   "source": [
    "import numpy as np\n",
    "class_mapping_gender = {label:idx for idx, label in enumerate(np.unique(df_whole_map[\"gender\"]))}\n",
    "class_mapping_singmethod = {label:idx for idx, label in enumerate(np.unique(df_whole_map[\"signup_method\"]))}\n",
    "class_mapping_language = {label:idx for idx, label in enumerate(np.unique(df_whole_map[\"language\"]))}\n",
    "class_mapping_afchanel = {label:idx for idx, label in enumerate(np.unique(df_whole_map[\"affiliate_channel\"]))}\n",
    "class_mapping_afprovid = {label:idx for idx, label in enumerate(np.unique(df_whole_map[\"affiliate_provider\"]))}\n",
    "class_mapping_fstaftrack = {label:idx for idx, label in enumerate(np.unique(df_whole_map[\"first_affiliate_tracked\"]))}\n",
    "class_mapping_signupApp = {label:idx for idx, label in enumerate(np.unique(df_whole_map[\"signup_app\"]))}\n",
    "class_mapping_fstdevTyp = {label:idx for idx, label in enumerate(np.unique(df_whole_map[\"first_device_type\"]))}\n",
    "class_mapping_fstbrows = {label:idx for idx, label in enumerate(np.unique(df_whole_map[\"first_browser\"]))}"
   ]
  },
  {
   "cell_type": "code",
   "execution_count": 11,
   "metadata": {},
   "outputs": [
    {
     "data": {
      "text/html": [
       "<div>\n",
       "<style>\n",
       "    .dataframe thead tr:only-child th {\n",
       "        text-align: right;\n",
       "    }\n",
       "\n",
       "    .dataframe thead th {\n",
       "        text-align: left;\n",
       "    }\n",
       "\n",
       "    .dataframe tbody tr th {\n",
       "        vertical-align: top;\n",
       "    }\n",
       "</style>\n",
       "<table border=\"1\" class=\"dataframe\">\n",
       "  <thead>\n",
       "    <tr style=\"text-align: right;\">\n",
       "      <th></th>\n",
       "      <th>id</th>\n",
       "      <th>date_account_created</th>\n",
       "      <th>timestamp_first_active</th>\n",
       "      <th>date_first_booking</th>\n",
       "      <th>gender</th>\n",
       "      <th>age</th>\n",
       "      <th>signup_method</th>\n",
       "      <th>signup_flow</th>\n",
       "      <th>language</th>\n",
       "      <th>affiliate_channel</th>\n",
       "      <th>...</th>\n",
       "      <th>first_device_type</th>\n",
       "      <th>first_browser</th>\n",
       "      <th>country_destination</th>\n",
       "      <th>Year_account_created</th>\n",
       "      <th>Month_account_created</th>\n",
       "      <th>Day_account_created</th>\n",
       "      <th>Year_first_active</th>\n",
       "      <th>Month_first_active</th>\n",
       "      <th>Day_first_active</th>\n",
       "      <th>Time_first_active</th>\n",
       "    </tr>\n",
       "  </thead>\n",
       "  <tbody>\n",
       "    <tr>\n",
       "      <th>0</th>\n",
       "      <td>gxn3p5htnn</td>\n",
       "      <td>2010-06-28</td>\n",
       "      <td>20090319043255</td>\n",
       "      <td>NaN</td>\n",
       "      <td>0</td>\n",
       "      <td>47.14531</td>\n",
       "      <td>1</td>\n",
       "      <td>0</td>\n",
       "      <td>6</td>\n",
       "      <td>2</td>\n",
       "      <td>...</td>\n",
       "      <td>3</td>\n",
       "      <td>8</td>\n",
       "      <td>NDF</td>\n",
       "      <td>2010</td>\n",
       "      <td>6</td>\n",
       "      <td>28</td>\n",
       "      <td>2009</td>\n",
       "      <td>3</td>\n",
       "      <td>19</td>\n",
       "      <td>4</td>\n",
       "    </tr>\n",
       "    <tr>\n",
       "      <th>1</th>\n",
       "      <td>820tgsjxq7</td>\n",
       "      <td>2011-05-25</td>\n",
       "      <td>20090523174809</td>\n",
       "      <td>NaN</td>\n",
       "      <td>2</td>\n",
       "      <td>38.00000</td>\n",
       "      <td>1</td>\n",
       "      <td>0</td>\n",
       "      <td>6</td>\n",
       "      <td>7</td>\n",
       "      <td>...</td>\n",
       "      <td>3</td>\n",
       "      <td>8</td>\n",
       "      <td>NDF</td>\n",
       "      <td>2011</td>\n",
       "      <td>5</td>\n",
       "      <td>25</td>\n",
       "      <td>2009</td>\n",
       "      <td>5</td>\n",
       "      <td>23</td>\n",
       "      <td>17</td>\n",
       "    </tr>\n",
       "    <tr>\n",
       "      <th>2</th>\n",
       "      <td>4ft3gnwmtx</td>\n",
       "      <td>2010-09-28</td>\n",
       "      <td>20090609231247</td>\n",
       "      <td>2010-08-02</td>\n",
       "      <td>1</td>\n",
       "      <td>56.00000</td>\n",
       "      <td>0</td>\n",
       "      <td>3</td>\n",
       "      <td>6</td>\n",
       "      <td>2</td>\n",
       "      <td>...</td>\n",
       "      <td>6</td>\n",
       "      <td>22</td>\n",
       "      <td>US</td>\n",
       "      <td>2010</td>\n",
       "      <td>9</td>\n",
       "      <td>28</td>\n",
       "      <td>2009</td>\n",
       "      <td>6</td>\n",
       "      <td>9</td>\n",
       "      <td>23</td>\n",
       "    </tr>\n",
       "    <tr>\n",
       "      <th>3</th>\n",
       "      <td>bjjt8pjhuk</td>\n",
       "      <td>2011-12-05</td>\n",
       "      <td>20091031060129</td>\n",
       "      <td>2012-09-08</td>\n",
       "      <td>1</td>\n",
       "      <td>42.00000</td>\n",
       "      <td>1</td>\n",
       "      <td>0</td>\n",
       "      <td>6</td>\n",
       "      <td>2</td>\n",
       "      <td>...</td>\n",
       "      <td>3</td>\n",
       "      <td>17</td>\n",
       "      <td>other</td>\n",
       "      <td>2011</td>\n",
       "      <td>12</td>\n",
       "      <td>5</td>\n",
       "      <td>2009</td>\n",
       "      <td>10</td>\n",
       "      <td>31</td>\n",
       "      <td>6</td>\n",
       "    </tr>\n",
       "    <tr>\n",
       "      <th>4</th>\n",
       "      <td>87mebub9p4</td>\n",
       "      <td>2010-09-14</td>\n",
       "      <td>20091208061105</td>\n",
       "      <td>2010-02-18</td>\n",
       "      <td>0</td>\n",
       "      <td>41.00000</td>\n",
       "      <td>0</td>\n",
       "      <td>0</td>\n",
       "      <td>6</td>\n",
       "      <td>2</td>\n",
       "      <td>...</td>\n",
       "      <td>3</td>\n",
       "      <td>8</td>\n",
       "      <td>US</td>\n",
       "      <td>2010</td>\n",
       "      <td>9</td>\n",
       "      <td>14</td>\n",
       "      <td>2009</td>\n",
       "      <td>12</td>\n",
       "      <td>8</td>\n",
       "      <td>6</td>\n",
       "    </tr>\n",
       "  </tbody>\n",
       "</table>\n",
       "<p>5 rows × 23 columns</p>\n",
       "</div>"
      ],
      "text/plain": [
       "           id date_account_created timestamp_first_active date_first_booking  \\\n",
       "0  gxn3p5htnn           2010-06-28         20090319043255                NaN   \n",
       "1  820tgsjxq7           2011-05-25         20090523174809                NaN   \n",
       "2  4ft3gnwmtx           2010-09-28         20090609231247         2010-08-02   \n",
       "3  bjjt8pjhuk           2011-12-05         20091031060129         2012-09-08   \n",
       "4  87mebub9p4           2010-09-14         20091208061105         2010-02-18   \n",
       "\n",
       "   gender       age  signup_method  signup_flow  language  affiliate_channel  \\\n",
       "0       0  47.14531              1            0         6                  2   \n",
       "1       2  38.00000              1            0         6                  7   \n",
       "2       1  56.00000              0            3         6                  2   \n",
       "3       1  42.00000              1            0         6                  2   \n",
       "4       0  41.00000              0            0         6                  2   \n",
       "\n",
       "         ...         first_device_type  first_browser  country_destination  \\\n",
       "0        ...                         3              8                  NDF   \n",
       "1        ...                         3              8                  NDF   \n",
       "2        ...                         6             22                   US   \n",
       "3        ...                         3             17                other   \n",
       "4        ...                         3              8                   US   \n",
       "\n",
       "   Year_account_created  Month_account_created Day_account_created  \\\n",
       "0                  2010                      6                  28   \n",
       "1                  2011                      5                  25   \n",
       "2                  2010                      9                  28   \n",
       "3                  2011                     12                   5   \n",
       "4                  2010                      9                  14   \n",
       "\n",
       "  Year_first_active  Month_first_active  Day_first_active Time_first_active  \n",
       "0              2009                   3                19                 4  \n",
       "1              2009                   5                23                17  \n",
       "2              2009                   6                 9                23  \n",
       "3              2009                  10                31                 6  \n",
       "4              2009                  12                 8                 6  \n",
       "\n",
       "[5 rows x 23 columns]"
      ]
     },
     "execution_count": 11,
     "metadata": {},
     "output_type": "execute_result"
    }
   ],
   "source": [
    "# マッピングディクショナリを使ってクラスラベルを整数に変換\n",
    "\n",
    "df_whole_map[\"gender\"] = df_whole[\"gender\"].map(class_mapping_gender)\n",
    "df_whole_map[\"signup_method\"] = df_whole[\"signup_method\"].map(class_mapping_singmethod)\n",
    "df_whole_map[\"language\"] = df_whole[\"language\"].map(class_mapping_language)\n",
    "df_whole_map[\"affiliate_channel\"] = df_whole[\"affiliate_channel\"].map(class_mapping_afchanel)\n",
    "df_whole_map[\"affiliate_provider\"] = df_whole[\"affiliate_provider\"].map(class_mapping_afprovid)\n",
    "df_whole_map[\"first_affiliate_tracked\"] = df_whole[\"first_affiliate_tracked\"].map(class_mapping_fstaftrack)\n",
    "df_whole_map[\"signup_app\"] = df_whole[\"signup_app\"].map(class_mapping_signupApp)\n",
    "df_whole_map[\"first_device_type\"] = df_whole[\"first_device_type\"].map(class_mapping_fstdevTyp)\n",
    "df_whole_map[\"first_browser\"] = df_whole[\"first_browser\"].map(class_mapping_fstbrows)\n",
    "\n",
    "df_whole_map.head()"
   ]
  },
  {
   "cell_type": "code",
   "execution_count": 93,
   "metadata": {
    "collapsed": true
   },
   "outputs": [],
   "source": [
    "# カテゴリー変数を0/1に置換\n",
    "ary_category_columns=[\"gender\",\"signup_method\",\"language\",\"affiliate_channel\",\"affiliate_provider\",\n",
    "                  \"first_affiliate_tracked\",\"signup_app\",\"first_device_type\",\"first_browser\"]\n",
    "df_whole_catego = pd.get_dummies(df_whole, columns=ary_category_columns, drop_first=True)"
   ]
  },
  {
   "cell_type": "code",
   "execution_count": null,
   "metadata": {
    "collapsed": true
   },
   "outputs": [],
   "source": [
    "#【マッピング版】データをtrainとtestに再分割\n",
    "df_train_map=df_whole_map[df_whole_map.timestamp_first_active<=\"20140630235824\"]\n",
    "df_test_map=df_whole_map[df_whole_map.timestamp_first_active>\"20140630235824\"]\n",
    "test_id_map=df_test_map['id']\n",
    "test_id_map.head()\n",
    "\n",
    "# 予測に用いるデータの作成\n",
    "# 必要のないカラムを削除\n",
    "X_train_map=df_train_map.drop([\"id\",\"date_account_created\",\"timestamp_first_active\",\n",
    "                    \"date_first_booking\",\"country_destination\"], axis=1)\n",
    "#被説明変数のカラムをY_trainに代入\n",
    "Y_train_map=df_train_map.country_destination\n",
    "Y_train_map.head()\n",
    "\n",
    "# テストデータの作成\n",
    "X_test_map = df_test_map.drop([\"id\",\"date_account_created\",\"timestamp_first_active\",\n",
    "                    \"date_first_booking\",\"country_destination\"], axis=1)\n",
    "\n",
    "df_train_map.shape"
   ]
  },
  {
   "cell_type": "code",
   "execution_count": 94,
   "metadata": {},
   "outputs": [
    {
     "data": {
      "text/plain": [
       "0    5uwns89zht\n",
       "1    jtl0dijy2j\n",
       "2    xx0ulgorjt\n",
       "3    6c6puo6ix0\n",
       "4    czqhjk3yfe\n",
       "Name: id, dtype: object"
      ]
     },
     "execution_count": 94,
     "metadata": {},
     "output_type": "execute_result"
    }
   ],
   "source": [
    "#【カテゴリカル変換】データをtrainとtestに再分割\n",
    "df_train_aft=df_whole_catego[df_whole_catego.timestamp_first_active<=\"20140630235824\"]\n",
    "df_test_aft=df_whole_catego[df_whole_catego.timestamp_first_active>\"20140630235824\"]\n",
    "test_id=df_test['id']\n",
    "test_id.head()"
   ]
  },
  {
   "cell_type": "code",
   "execution_count": 95,
   "metadata": {},
   "outputs": [
    {
     "data": {
      "text/plain": [
       "(213451, 135)"
      ]
     },
     "execution_count": 95,
     "metadata": {},
     "output_type": "execute_result"
    }
   ],
   "source": [
    "# 予測に用いるデータの作成\n",
    "# 必要のないカラムを削除\n",
    "X_train_org=df_train_aft.drop([\"id\",\"date_account_created\",\"timestamp_first_active\",\n",
    "                    \"date_first_booking\",\"country_destination\"], axis=1)\n",
    "#被説明変数のカラムをY_trainに代入\n",
    "Y_train=df_train_aft.country_destination\n",
    "X_train_org.shape"
   ]
  },
  {
   "cell_type": "code",
   "execution_count": 96,
   "metadata": {
    "collapsed": true
   },
   "outputs": [],
   "source": [
    "# テストデータの作成\n",
    "X_test_org = df_test_aft.drop([\"id\",\"date_account_created\",\"timestamp_first_active\",\n",
    "                    \"date_first_booking\",\"country_destination\"], axis=1)"
   ]
  },
  {
   "cell_type": "markdown",
   "metadata": {},
   "source": [
    "# 順序特徴量のマッピング"
   ]
  },
  {
   "cell_type": "code",
   "execution_count": 97,
   "metadata": {},
   "outputs": [],
   "source": [
    "# Countryと整数を対応させるディクショナリを生成\n",
    "country_unique=list(set(Y_train))\n",
    "country_dict={country_unique[i]:i for i in range(len(country_unique))}"
   ]
  },
  {
   "cell_type": "code",
   "execution_count": 98,
   "metadata": {},
   "outputs": [
    {
     "data": {
      "text/plain": [
       "(213451,)"
      ]
     },
     "execution_count": 98,
     "metadata": {},
     "output_type": "execute_result"
    }
   ],
   "source": [
    "Y_train_mapCol=Y_train.map(country_dict)\n",
    "Y_train_mapCol.shape"
   ]
  },
  {
   "cell_type": "markdown",
   "metadata": {},
   "source": [
    "# SBSアルゴリズムを実装"
   ]
  },
  {
   "cell_type": "code",
   "execution_count": 31,
   "metadata": {
    "collapsed": true
   },
   "outputs": [],
   "source": [
    "from sklearn.base import clone\n",
    "from itertools import combinations\n",
    "import numpy as np\n",
    "from sklearn.cross_validation import train_test_split\n",
    "from sklearn.metrics import accuracy_score\n",
    "\n",
    "class SBS():\n",
    "    \"\"\"\n",
    "    逐次後退選択(sequential backward selection)を実行するクラス\n",
    "    \"\"\"\n",
    "    \n",
    "    def __init__(self, estimator, k_features, scoring=accuracy_score,\n",
    "                test_size=0.25, random_state=1):\n",
    "        self.scoring = scoring               # 特徴量を評価する指標\n",
    "        self.estimator = clone(estimator)    # 推定器\n",
    "        self.k_features = k_features         # 選択する特徴量の個数\n",
    "        self.test_size = test_size           # テストデータの割合\n",
    "        self.random_state = random_state     # 乱数種を固定するrandom_state\n",
    "        \n",
    "    def fit(self, X, y):\n",
    "        X_train, X_test, y_train, y_test = \\\n",
    "            train_test_split(X, y, test_size=self.test_size,\n",
    "                            random_state=self.random_state)\n",
    "            # 全ての特徴量の個数、列インデックス\n",
    "        dim = X_train.shape[1]\n",
    "        self.indices_ = tuple(range(dim))\n",
    "        self.subsets_ = [self.indices_]\n",
    "        # すべての特徴量を用いてスコアを算出\n",
    "        score = self._calc_score(X_train, y_train,\n",
    "                                 X_test, y_test, self.indices_)\n",
    "            \n",
    "        # スコアを格納\n",
    "        self.scores_ = [score]\n",
    "        # 指定した特徴量の個数になるまで処理を反復\n",
    "        while dim > self.k_features:\n",
    "            # 空のリストの生成（スコア、列インデックス）\n",
    "            scores = []\n",
    "            subsets = []\n",
    "                \n",
    "            # 特徴量の部分集合を表す列インデックスの組み合わせごとに処理を反復\n",
    "            for p in combinations(self.indices_, r=dim - 1):\n",
    "                # スコアを算出して格納\n",
    "                score = self._calc_score(X_train, y_train, X_test, y_test, p)\n",
    "                scores.append(score)\n",
    "                # 特徴量の部分集合を表す列インデックスのリストを格納\n",
    "                subsets.append(p)\n",
    "                    \n",
    "            # 最良のスコアのインデックスを抽出\n",
    "            best = np.argmax(scores)\n",
    "            # 最良のスコアとなる列インデックスを抽出して格納\n",
    "            self.indices_ = subsets[best]\n",
    "            self.subsets_.append(self.indices_)\n",
    "            # 特徴量の個数を1つだけ減らして次のステップへ\n",
    "            dim -= 1\n",
    "                \n",
    "            # スコアを格納\n",
    "            self.scores_.append(scores[best])\n",
    "                \n",
    "        # 最後に格納したスコア\n",
    "        self.k_score_ = self.scores_[-1]\n",
    "            \n",
    "        return self\n",
    "        \n",
    "    def transform(self, X):\n",
    "        # 抽出した特徴量を返す\n",
    "        X[:, self.indices_]\n",
    "        \n",
    "    def _calc_score(self, X_train, y_train, X_test, y_test, indices):\n",
    "        # 指定された列番号indicesの特徴量を抽出してモデルを適合\n",
    "        self.estimator.fit(X_train[:, indices], y_train)\n",
    "        # テストデータを用いてクラスラベルを予測\n",
    "        y_pred = self.estimator.predict(X_test[:, indices])\n",
    "        # 真のクラスラベルと予測値を用いてスコアを算出\n",
    "        score = self.scoring(y_test, y_pred)\n",
    "        return score"
   ]
  },
  {
   "cell_type": "code",
   "execution_count": 99,
   "metadata": {},
   "outputs": [
    {
     "ename": "MemoryError",
     "evalue": "",
     "output_type": "error",
     "traceback": [
      "\u001b[1;31m---------------------------------------------------------------------------\u001b[0m",
      "\u001b[1;31mMemoryError\u001b[0m                               Traceback (most recent call last)",
      "\u001b[1;32m<ipython-input-99-981c2ee7fa49>\u001b[0m in \u001b[0;36m<module>\u001b[1;34m()\u001b[0m\n\u001b[0;32m      1\u001b[0m \u001b[1;31m#NumPy Arrayにしておく\u001b[0m\u001b[1;33m\u001b[0m\u001b[1;33m\u001b[0m\u001b[0m\n\u001b[1;32m----> 2\u001b[1;33m \u001b[0mX_try_ar\u001b[0m \u001b[1;33m=\u001b[0m \u001b[0mnp\u001b[0m\u001b[1;33m.\u001b[0m\u001b[0marray\u001b[0m\u001b[1;33m(\u001b[0m\u001b[0mX_train\u001b[0m\u001b[1;33m)\u001b[0m\u001b[1;33m\u001b[0m\u001b[0m\n\u001b[0m\u001b[0;32m      3\u001b[0m \u001b[0mY_train_map_ar\u001b[0m \u001b[1;33m=\u001b[0m \u001b[0mnp\u001b[0m\u001b[1;33m.\u001b[0m\u001b[0marray\u001b[0m\u001b[1;33m(\u001b[0m\u001b[0my_train\u001b[0m\u001b[1;33m)\u001b[0m\u001b[1;33m\u001b[0m\u001b[0m\n",
      "\u001b[1;31mMemoryError\u001b[0m: "
     ]
    }
   ],
   "source": [
    "#NumPy Arrayにしておく\n",
    "X_try_ar = np.array(X_train)\n",
    "Y_train_map_ar = np.array(y_train)"
   ]
  },
  {
   "cell_type": "code",
   "execution_count": 101,
   "metadata": {},
   "outputs": [
    {
     "data": {
      "text/plain": [
       "(64827, 135)"
      ]
     },
     "execution_count": 101,
     "metadata": {},
     "output_type": "execute_result"
    }
   ],
   "source": [
    "X_try_ar.shape"
   ]
  },
  {
   "cell_type": "code",
   "execution_count": 102,
   "metadata": {},
   "outputs": [
    {
     "ename": "KeyboardInterrupt",
     "evalue": "",
     "output_type": "error",
     "traceback": [
      "\u001b[1;31m---------------------------------------------------------------------------\u001b[0m",
      "\u001b[1;31mKeyboardInterrupt\u001b[0m                         Traceback (most recent call last)",
      "\u001b[1;32m<ipython-input-102-8c44f9da6ce1>\u001b[0m in \u001b[0;36m<module>\u001b[1;34m()\u001b[0m\n\u001b[0;32m      8\u001b[0m \u001b[0msbs\u001b[0m \u001b[1;33m=\u001b[0m \u001b[0mSBS\u001b[0m\u001b[1;33m(\u001b[0m\u001b[0mknn\u001b[0m\u001b[1;33m,\u001b[0m \u001b[0mk_features\u001b[0m \u001b[1;33m=\u001b[0m\u001b[1;36m1\u001b[0m\u001b[1;33m)\u001b[0m\u001b[1;33m\u001b[0m\u001b[0m\n\u001b[0;32m      9\u001b[0m \u001b[1;31m# 逐次後退選択を実行\u001b[0m\u001b[1;33m\u001b[0m\u001b[1;33m\u001b[0m\u001b[0m\n\u001b[1;32m---> 10\u001b[1;33m \u001b[0msbs\u001b[0m\u001b[1;33m.\u001b[0m\u001b[0mfit\u001b[0m\u001b[1;33m(\u001b[0m\u001b[0mX_try_ar\u001b[0m\u001b[1;33m,\u001b[0m \u001b[0mY_train_map_ar\u001b[0m\u001b[1;33m)\u001b[0m\u001b[1;33m\u001b[0m\u001b[0m\n\u001b[0m",
      "\u001b[1;32m<ipython-input-31-de9b055aa45d>\u001b[0m in \u001b[0;36mfit\u001b[1;34m(self, X, y)\u001b[0m\n\u001b[0;32m     40\u001b[0m             \u001b[1;32mfor\u001b[0m \u001b[0mp\u001b[0m \u001b[1;32min\u001b[0m \u001b[0mcombinations\u001b[0m\u001b[1;33m(\u001b[0m\u001b[0mself\u001b[0m\u001b[1;33m.\u001b[0m\u001b[0mindices_\u001b[0m\u001b[1;33m,\u001b[0m \u001b[0mr\u001b[0m\u001b[1;33m=\u001b[0m\u001b[0mdim\u001b[0m \u001b[1;33m-\u001b[0m \u001b[1;36m1\u001b[0m\u001b[1;33m)\u001b[0m\u001b[1;33m:\u001b[0m\u001b[1;33m\u001b[0m\u001b[0m\n\u001b[0;32m     41\u001b[0m                 \u001b[1;31m# スコアを算出して格納\u001b[0m\u001b[1;33m\u001b[0m\u001b[1;33m\u001b[0m\u001b[0m\n\u001b[1;32m---> 42\u001b[1;33m                 \u001b[0mscore\u001b[0m \u001b[1;33m=\u001b[0m \u001b[0mself\u001b[0m\u001b[1;33m.\u001b[0m\u001b[0m_calc_score\u001b[0m\u001b[1;33m(\u001b[0m\u001b[0mX_train\u001b[0m\u001b[1;33m,\u001b[0m \u001b[0my_train\u001b[0m\u001b[1;33m,\u001b[0m \u001b[0mX_test\u001b[0m\u001b[1;33m,\u001b[0m \u001b[0my_test\u001b[0m\u001b[1;33m,\u001b[0m \u001b[0mp\u001b[0m\u001b[1;33m)\u001b[0m\u001b[1;33m\u001b[0m\u001b[0m\n\u001b[0m\u001b[0;32m     43\u001b[0m                 \u001b[0mscores\u001b[0m\u001b[1;33m.\u001b[0m\u001b[0mappend\u001b[0m\u001b[1;33m(\u001b[0m\u001b[0mscore\u001b[0m\u001b[1;33m)\u001b[0m\u001b[1;33m\u001b[0m\u001b[0m\n\u001b[0;32m     44\u001b[0m                 \u001b[1;31m# 特徴量の部分集合を表す列インデックスのリストを格納\u001b[0m\u001b[1;33m\u001b[0m\u001b[1;33m\u001b[0m\u001b[0m\n",
      "\u001b[1;32m<ipython-input-31-de9b055aa45d>\u001b[0m in \u001b[0;36m_calc_score\u001b[1;34m(self, X_train, y_train, X_test, y_test, indices)\u001b[0m\n\u001b[0;32m     67\u001b[0m     \u001b[1;32mdef\u001b[0m \u001b[0m_calc_score\u001b[0m\u001b[1;33m(\u001b[0m\u001b[0mself\u001b[0m\u001b[1;33m,\u001b[0m \u001b[0mX_train\u001b[0m\u001b[1;33m,\u001b[0m \u001b[0my_train\u001b[0m\u001b[1;33m,\u001b[0m \u001b[0mX_test\u001b[0m\u001b[1;33m,\u001b[0m \u001b[0my_test\u001b[0m\u001b[1;33m,\u001b[0m \u001b[0mindices\u001b[0m\u001b[1;33m)\u001b[0m\u001b[1;33m:\u001b[0m\u001b[1;33m\u001b[0m\u001b[0m\n\u001b[0;32m     68\u001b[0m         \u001b[1;31m# 指定された列番号indicesの特徴量を抽出してモデルを適合\u001b[0m\u001b[1;33m\u001b[0m\u001b[1;33m\u001b[0m\u001b[0m\n\u001b[1;32m---> 69\u001b[1;33m         \u001b[0mself\u001b[0m\u001b[1;33m.\u001b[0m\u001b[0mestimator\u001b[0m\u001b[1;33m.\u001b[0m\u001b[0mfit\u001b[0m\u001b[1;33m(\u001b[0m\u001b[0mX_train\u001b[0m\u001b[1;33m[\u001b[0m\u001b[1;33m:\u001b[0m\u001b[1;33m,\u001b[0m \u001b[0mindices\u001b[0m\u001b[1;33m]\u001b[0m\u001b[1;33m,\u001b[0m \u001b[0my_train\u001b[0m\u001b[1;33m)\u001b[0m\u001b[1;33m\u001b[0m\u001b[0m\n\u001b[0m\u001b[0;32m     70\u001b[0m         \u001b[1;31m# テストデータを用いてクラスラベルを予測\u001b[0m\u001b[1;33m\u001b[0m\u001b[1;33m\u001b[0m\u001b[0m\n\u001b[0;32m     71\u001b[0m         \u001b[0my_pred\u001b[0m \u001b[1;33m=\u001b[0m \u001b[0mself\u001b[0m\u001b[1;33m.\u001b[0m\u001b[0mestimator\u001b[0m\u001b[1;33m.\u001b[0m\u001b[0mpredict\u001b[0m\u001b[1;33m(\u001b[0m\u001b[0mX_test\u001b[0m\u001b[1;33m[\u001b[0m\u001b[1;33m:\u001b[0m\u001b[1;33m,\u001b[0m \u001b[0mindices\u001b[0m\u001b[1;33m]\u001b[0m\u001b[1;33m)\u001b[0m\u001b[1;33m\u001b[0m\u001b[0m\n",
      "\u001b[1;32m~\\AppData\\Local\\Continuum\\anaconda3\\lib\\site-packages\\sklearn\\neighbors\\base.py\u001b[0m in \u001b[0;36mfit\u001b[1;34m(self, X, y)\u001b[0m\n\u001b[0;32m    788\u001b[0m             \u001b[0mself\u001b[0m\u001b[1;33m.\u001b[0m\u001b[0m_y\u001b[0m \u001b[1;33m=\u001b[0m \u001b[0mself\u001b[0m\u001b[1;33m.\u001b[0m\u001b[0m_y\u001b[0m\u001b[1;33m.\u001b[0m\u001b[0mravel\u001b[0m\u001b[1;33m(\u001b[0m\u001b[1;33m)\u001b[0m\u001b[1;33m\u001b[0m\u001b[0m\n\u001b[0;32m    789\u001b[0m \u001b[1;33m\u001b[0m\u001b[0m\n\u001b[1;32m--> 790\u001b[1;33m         \u001b[1;32mreturn\u001b[0m \u001b[0mself\u001b[0m\u001b[1;33m.\u001b[0m\u001b[0m_fit\u001b[0m\u001b[1;33m(\u001b[0m\u001b[0mX\u001b[0m\u001b[1;33m)\u001b[0m\u001b[1;33m\u001b[0m\u001b[0m\n\u001b[0m\u001b[0;32m    791\u001b[0m \u001b[1;33m\u001b[0m\u001b[0m\n\u001b[0;32m    792\u001b[0m \u001b[1;33m\u001b[0m\u001b[0m\n",
      "\u001b[1;32m~\\AppData\\Local\\Continuum\\anaconda3\\lib\\site-packages\\sklearn\\neighbors\\base.py\u001b[0m in \u001b[0;36m_fit\u001b[1;34m(self, X)\u001b[0m\n\u001b[0;32m    246\u001b[0m             self._tree = KDTree(X, self.leaf_size,\n\u001b[0;32m    247\u001b[0m                                 \u001b[0mmetric\u001b[0m\u001b[1;33m=\u001b[0m\u001b[0mself\u001b[0m\u001b[1;33m.\u001b[0m\u001b[0meffective_metric_\u001b[0m\u001b[1;33m,\u001b[0m\u001b[1;33m\u001b[0m\u001b[0m\n\u001b[1;32m--> 248\u001b[1;33m                                 **self.effective_metric_params_)\n\u001b[0m\u001b[0;32m    249\u001b[0m         \u001b[1;32melif\u001b[0m \u001b[0mself\u001b[0m\u001b[1;33m.\u001b[0m\u001b[0m_fit_method\u001b[0m \u001b[1;33m==\u001b[0m \u001b[1;34m'brute'\u001b[0m\u001b[1;33m:\u001b[0m\u001b[1;33m\u001b[0m\u001b[0m\n\u001b[0;32m    250\u001b[0m             \u001b[0mself\u001b[0m\u001b[1;33m.\u001b[0m\u001b[0m_tree\u001b[0m \u001b[1;33m=\u001b[0m \u001b[1;32mNone\u001b[0m\u001b[1;33m\u001b[0m\u001b[0m\n",
      "\u001b[1;31mKeyboardInterrupt\u001b[0m: "
     ]
    }
   ],
   "source": [
    "# うまくまわらなかった・・・。\n",
    "from sklearn.neighbors import KNeighborsClassifier\n",
    "import matplotlib.pyplot as plt\n",
    "# K近傍法分類器のインスタンスを生成（近傍点数=5)\n",
    "rfc = RandomForestClassifier(n_jobs=-1)\n",
    "knn = KNeighborsClassifier(n_neighbors=5)\n",
    "# 逐次後退選択のインスタンスを生成\n",
    "sbs = SBS(knn, k_features =1)\n",
    "# 逐次後退選択を実行\n",
    "sbs.fit(X_try_ar, Y_train_map_ar)"
   ]
  },
  {
   "cell_type": "code",
   "execution_count": 97,
   "metadata": {},
   "outputs": [
    {
     "data": {
      "text/plain": [
       "(64827,)"
      ]
     },
     "execution_count": 97,
     "metadata": {},
     "output_type": "execute_result"
    }
   ],
   "source": [
    "y_train.shape"
   ]
  },
  {
   "cell_type": "code",
   "execution_count": 92,
   "metadata": {},
   "outputs": [
    {
     "data": {
      "text/plain": [
       "(64035, 50)"
      ]
     },
     "execution_count": 92,
     "metadata": {},
     "output_type": "execute_result"
    }
   ],
   "source": [
    "X_try_ar.shape"
   ]
  },
  {
   "cell_type": "code",
   "execution_count": 40,
   "metadata": {},
   "outputs": [
    {
     "data": {
      "image/png": "[encoded data removed]",
      "text/plain": [
       "<matplotlib.figure.Figure at 0x1e040c50>"
      ]
     },
     "metadata": {},
     "output_type": "display_data"
    }
   ],
   "source": [
    "import matplotlib.pyplot as plt\n",
    "# 特徴量の個数のリスト(13, 12, ....., )\n",
    "k_feat = [len(k) for k in sbs.subsets_]\n",
    "\n",
    "# 横軸を特徴量の個数、縦軸をスコアとした折れ線のプロット\n",
    "plt.plot(k_feat, sbs.scores_, marker='o')\n",
    "plt.ylim([0.5, 0.7])\n",
    "plt.ylabel('Accuracy')\n",
    "plt.xlabel('Number of features')\n",
    "plt.grid()\n",
    "plt.tight_layout()\n",
    "plt.show()"
   ]
  },
  {
   "cell_type": "code",
   "execution_count": 74,
   "metadata": {},
   "outputs": [
    {
     "name": "stdout",
     "output_type": "stream",
     "text": [
      "Index(['Month_account_created', 'gender_MALE', 'language_fr'], dtype='object')\n",
      "Index(['Month_account_created', 'gender_MALE', 'signup_method_facebook',\n",
      "       'language_fr'],\n",
      "      dtype='object')\n",
      "Index(['Month_account_created', 'gender_FEMALE', 'gender_MALE',\n",
      "       'signup_method_facebook', 'language_fr'],\n",
      "      dtype='object')\n"
     ]
    }
   ],
   "source": [
    "k3=list(sbs.subsets_[47])\n",
    "print(X_train_org.columns[0:][k3])\n",
    "\n",
    "k4=list(sbs.subsets_[46])\n",
    "print(X_train_org.columns[0:][k4])\n",
    "\n",
    "k5=list(sbs.subsets_[45])\n",
    "print(X_train_org.columns[0:][k5])"
   ]
  },
  {
   "cell_type": "markdown",
   "metadata": {
    "collapsed": true
   },
   "source": [
    "# ランダムフォレストで特徴量の重要度にアクセスする"
   ]
  },
  {
   "cell_type": "code",
   "execution_count": 100,
   "metadata": {
    "collapsed": true
   },
   "outputs": [],
   "source": [
    "from sklearn.model_selection import train_test_split\n",
    "\n",
    "X_train, X_test, y_train, y_test = train_test_split(X_train_org, Y_train_mapCol,\n",
    "                                                   test_size=0.8, random_state=0, stratify=Y_train_mapCol)"
   ]
  },
  {
   "cell_type": "code",
   "execution_count": 101,
   "metadata": {},
   "outputs": [],
   "source": [
    "# データセットの特徴量の名称\n",
    "feat_labels = X_train.columns[:]\n",
    "\n",
    "# ランダムフォレストオブジェクトの生成(決定木の個数=500)\n",
    "forest = RandomForestClassifier(n_estimators=50, n_jobs=-1, random_state=1)"
   ]
  },
  {
   "cell_type": "code",
   "execution_count": 102,
   "metadata": {},
   "outputs": [
    {
     "data": {
      "text/plain": [
       "RandomForestClassifier(bootstrap=True, class_weight=None, criterion='gini',\n",
       "            max_depth=None, max_features='auto', max_leaf_nodes=None,\n",
       "            min_impurity_decrease=0.0, min_impurity_split=None,\n",
       "            min_samples_leaf=1, min_samples_split=2,\n",
       "            min_weight_fraction_leaf=0.0, n_estimators=50, n_jobs=-1,\n",
       "            oob_score=False, random_state=1, verbose=0, warm_start=False)"
      ]
     },
     "execution_count": 102,
     "metadata": {},
     "output_type": "execute_result"
    }
   ],
   "source": [
    "# モデルを適合\n",
    "forest.fit(X_train, y_train)"
   ]
  },
  {
   "cell_type": "code",
   "execution_count": 103,
   "metadata": {},
   "outputs": [],
   "source": [
    "# 特徴量の重要度を抽出\n",
    "importances = forest.feature_importances_\n",
    "\n",
    "# 重要度の降順で特徴量のインデックスを抽出\n",
    "indices = np.argsort(importances)[::-1]"
   ]
  },
  {
   "cell_type": "markdown",
   "metadata": {},
   "source": [
    "# 重要度の降順で特徴量の名称、重要度を表示\n",
    "for f in range(X_train.shape[1]):\n",
    "    print(\"%2d) %-*s %f\" %\n",
    "          (f + 1, 30, feat_labels[indices[f]], importances[indices[f]]))\n"
   ]
  },
  {
   "cell_type": "code",
   "execution_count": 106,
   "metadata": {},
   "outputs": [
    {
     "name": "stdout",
     "output_type": "stream",
     "text": [
      " 1) Time_first_active              0.159551\n",
      " 2) Day_account_created            0.135095\n",
      " 3) Day_first_active               0.133598\n",
      " 4) age                            0.129037\n",
      " 5) Month_first_active             0.078184\n",
      " 6) Month_account_created          0.078016\n",
      " 7) Year_account_created           0.022565\n",
      " 8) Year_first_active              0.022456\n",
      " 9) first_affiliate_tracked_untracked 0.021748\n",
      "10) signup_method_facebook         0.016116\n",
      "11) signup_flow                    0.015358\n",
      "12) gender_FEMALE                  0.013392\n",
      "13) first_browser_Chrome           0.011565\n",
      "14) first_browser_Firefox          0.011559\n",
      "15) gender_MALE                    0.011118\n",
      "16) first_affiliate_tracked_omg    0.009936\n",
      "17) first_device_type_Windows Desktop 0.009889\n",
      "18) first_device_type_Mac Desktop  0.009127\n",
      "19) first_browser_Safari           0.008756\n",
      "20) first_browser_IE               0.006660\n",
      "21) affiliate_channel_sem-brand    0.005551\n",
      "22) first_browser_Mobile Safari    0.005272\n",
      "23) affiliate_provider_google      0.005202\n",
      "24) affiliate_channel_sem-non-brand 0.004701\n",
      "25) affiliate_provider_direct      0.004440\n",
      "26) affiliate_channel_direct       0.004412\n",
      "27) first_device_type_iPad         0.004092\n",
      "28) first_affiliate_tracked_tracked-other 0.004006\n",
      "29) affiliate_channel_seo          0.003804\n",
      "30) first_device_type_iPhone       0.003804\n",
      "31) language_en                    0.003691\n",
      "32) first_device_type_Other/Unknown 0.003282\n",
      "33) affiliate_provider_other       0.002616\n",
      "34) affiliate_channel_content      0.002553\n",
      "35) first_affiliate_tracked_product 0.002308\n",
      "36) signup_app_Web                 0.002220\n",
      "37) signup_app_iOS                 0.002186\n",
      "38) affiliate_provider_bing        0.002044\n",
      "39) affiliate_channel_other        0.002006\n",
      "40) signup_app_Moweb               0.001766\n",
      "41) language_zh                    0.001625\n",
      "42) first_device_type_Desktop (Other) 0.001606\n",
      "43) affiliate_provider_facebook    0.001530\n",
      "44) language_fr                    0.001309\n",
      "45) first_browser_Chrome Mobile    0.001271\n",
      "46) affiliate_channel_remarketing  0.001270\n",
      "47) first_device_type_Android Tablet 0.001230\n",
      "48) language_es                    0.001163\n"
     ]
    }
   ],
   "source": [
    "from sklearn.feature_selection import SelectFromModel\n",
    "\n",
    "# 特徴選択オブジェクトを生成（重要度のしきい値を0.01に設定）\n",
    "sfm = SelectFromModel(forest, threshold=0.0011, prefit=True)\n",
    "\n",
    "# 特徴量を抽出\n",
    "X_selected = sfm.transform(X_train)\n",
    "\n",
    "\n",
    "select_col = []\n",
    "for f in range(X_selected.shape[1]):\n",
    "    print(\"%2d) %-*s %f\" %\n",
    "          (f + 1, 30, feat_labels[indices[f]], importances[indices[f]]))    \n",
    "    select_col.append(feat_labels[indices[f]])"
   ]
  },
  {
   "cell_type": "code",
   "execution_count": 107,
   "metadata": {},
   "outputs": [
    {
     "data": {
      "text/plain": [
       "['Time_first_active',\n",
       " 'Day_account_created',\n",
       " 'Day_first_active',\n",
       " 'age',\n",
       " 'Month_first_active',\n",
       " 'Month_account_created',\n",
       " 'Year_account_created',\n",
       " 'Year_first_active',\n",
       " 'first_affiliate_tracked_untracked',\n",
       " 'signup_method_facebook',\n",
       " 'signup_flow',\n",
       " 'gender_FEMALE',\n",
       " 'first_browser_Chrome',\n",
       " 'first_browser_Firefox',\n",
       " 'gender_MALE',\n",
       " 'first_affiliate_tracked_omg',\n",
       " 'first_device_type_Windows Desktop',\n",
       " 'first_device_type_Mac Desktop',\n",
       " 'first_browser_Safari',\n",
       " 'first_browser_IE',\n",
       " 'affiliate_channel_sem-brand',\n",
       " 'first_browser_Mobile Safari',\n",
       " 'affiliate_provider_google',\n",
       " 'affiliate_channel_sem-non-brand',\n",
       " 'affiliate_provider_direct',\n",
       " 'affiliate_channel_direct',\n",
       " 'first_device_type_iPad',\n",
       " 'first_affiliate_tracked_tracked-other',\n",
       " 'affiliate_channel_seo',\n",
       " 'first_device_type_iPhone',\n",
       " 'language_en',\n",
       " 'first_device_type_Other/Unknown',\n",
       " 'affiliate_provider_other',\n",
       " 'affiliate_channel_content',\n",
       " 'first_affiliate_tracked_product',\n",
       " 'signup_app_Web',\n",
       " 'signup_app_iOS',\n",
       " 'affiliate_provider_bing',\n",
       " 'affiliate_channel_other',\n",
       " 'signup_app_Moweb',\n",
       " 'language_zh',\n",
       " 'first_device_type_Desktop (Other)',\n",
       " 'affiliate_provider_facebook',\n",
       " 'language_fr',\n",
       " 'first_browser_Chrome Mobile',\n",
       " 'affiliate_channel_remarketing',\n",
       " 'first_device_type_Android Tablet',\n",
       " 'language_es']"
      ]
     },
     "execution_count": 107,
     "metadata": {},
     "output_type": "execute_result"
    }
   ],
   "source": [
    "select_col"
   ]
  },
  {
   "cell_type": "code",
   "execution_count": 108,
   "metadata": {},
   "outputs": [],
   "source": [
    "select_col = ['Time_first_active',\n",
    " 'Day_account_created',\n",
    " 'Day_first_active',\n",
    " 'age',\n",
    " 'Month_first_active',\n",
    " 'Month_account_created',\n",
    " 'Year_account_created',\n",
    " 'Year_first_active',\n",
    " 'first_affiliate_tracked_untracked',\n",
    " 'signup_method_facebook',\n",
    " 'signup_flow',\n",
    " 'gender_FEMALE',\n",
    " 'first_browser_Chrome',\n",
    " 'first_browser_Firefox',\n",
    " 'gender_MALE']\n"
   ]
  },
  {
   "cell_type": "code",
   "execution_count": 56,
   "metadata": {
    "collapsed": true
   },
   "outputs": [],
   "source": [
    "country_idx = sorted(list(country_dict.values()))\n",
    "country_idx = np.array(country_idx)\n",
    "\n",
    "def get_dcg(y_pred, y_true):\n",
    "    dcg5 = (2**(y_pred==y_true).astype(np.float) -1) /np.log2(np.arange(1,len(y_pred)+1)+1)\n",
    "    return sum(dcg5)\n",
    "\n",
    "def get_mean_dcg_score(proba_array, y_true):\n",
    "    dcg_scores = []\n",
    "    for i in range(len(proba_array)):\n",
    "        each = proba_array[i]\n",
    "        top5_idx = country_idx[np.argsort(each)][::-1][:5]  #Top5の国のインデックスを取得\n",
    "        tmp_dcg = get_dcg(y_pred=top5_idx, y_true=y_true[i])  #DCGのスコアを取得\n",
    "        dcg_scores.append(tmp_dcg)  #全てのレコードのDCGのスコアを保管\n",
    "    return np.mean(dcg_scores)"
   ]
  },
  {
   "cell_type": "code",
   "execution_count": 42,
   "metadata": {},
   "outputs": [
    {
     "data": {
      "text/plain": [
       "43"
      ]
     },
     "execution_count": 42,
     "metadata": {},
     "output_type": "execute_result"
    }
   ],
   "source": [
    "import gc\n",
    "import numpy as np\n",
    "\n",
    "a = np.zeros((100,100))\n",
    "del a\n",
    "gc.collect()"
   ]
  },
  {
   "cell_type": "markdown",
   "metadata": {},
   "source": [
    "# クロスバリデーションを実施"
   ]
  },
  {
   "cell_type": "code",
   "execution_count": 44,
   "metadata": {
    "collapsed": true
   },
   "outputs": [],
   "source": [
    "# Numpy Array にしておく\n",
    "X_train_ar = np.array(X_train_org[select_col])\n",
    "Y_train_map_ar = np.array(Y_train_mapCol)\n",
    "X_test_ar = np.array(X_test_org[select_col])"
   ]
  },
  {
   "cell_type": "code",
   "execution_count": 57,
   "metadata": {},
   "outputs": [],
   "source": [
    "# クロスバリデーションの実施\n",
    "# KFold\n",
    "# n_foldsで指定した数値でデータを分割。n_folds=5とした場合、5分割\n",
    "# してそのうちの１つをテストデータとし、5通りパターンを生成する。\n",
    "k_fold=KFold(Y_train_map_ar.shape[0],n_folds=5,shuffle=True)\n",
    "score_list=[]\n",
    "\n",
    "clf = RandomForestClassifier()\n",
    "\n",
    "for train_index, test_index in k_fold:\n",
    "    X1,X2 = X_train_ar[train_index], X_train_ar[test_index]\n",
    "    Y1,Y2 = Y_train_map_ar[train_index], Y_train_map_ar[test_index]\n",
    "    clf.fit(X1, Y1)\n",
    "    ypred = clf.predict_proba(X2)\n",
    "    ndcg_score = get_mean_dcg_score(ypred, Y2)\n",
    "    score_list.append(ndcg_score)"
   ]
  },
  {
   "cell_type": "code",
   "execution_count": 58,
   "metadata": {},
   "outputs": [
    {
     "name": "stdout",
     "output_type": "stream",
     "text": [
      "Mean:  0.770316490618\n",
      "SD:  0.00158773821296\n"
     ]
    }
   ],
   "source": [
    "print(\"Mean: \", np.mean(score_list))\n",
    "print(\"SD: \", np.std(score_list))"
   ]
  },
  {
   "cell_type": "markdown",
   "metadata": {},
   "source": [
    "# 最終モデルの作成"
   ]
  },
  {
   "cell_type": "code",
   "execution_count": 47,
   "metadata": {},
   "outputs": [
    {
     "data": {
      "text/plain": [
       "168"
      ]
     },
     "execution_count": 47,
     "metadata": {},
     "output_type": "execute_result"
    }
   ],
   "source": [
    "import gc\n",
    "import numpy as np\n",
    "\n",
    "a = np.zeros((100,100))\n",
    "del a\n",
    "gc.collect()"
   ]
  },
  {
   "cell_type": "code",
   "execution_count": 27,
   "metadata": {
    "collapsed": true
   },
   "outputs": [],
   "source": [
    "from sklearn.cross_validation import train_test_split\n",
    "X_train, X_test, y_train, y_test = \\\n",
    " train_test_split(X_train_ar, Y_train_map_ar, test_size=0.7, random_state=1234)"
   ]
  },
  {
   "cell_type": "code",
   "execution_count": 59,
   "metadata": {
    "collapsed": true
   },
   "outputs": [],
   "source": [
    "clf = RandomForestClassifier(n_jobs=-1, random_state=1)\n",
    "clf.fit(X_train_ar, Y_train_map_ar)\n",
    "ypred_proba = clf.predict_proba(X_test_ar)"
   ]
  },
  {
   "cell_type": "code",
   "execution_count": 49,
   "metadata": {},
   "outputs": [
    {
     "name": "stderr",
     "output_type": "stream",
     "text": [
      "C:\\Users\\kashiwabara_a\\AppData\\Local\\Continuum\\anaconda3\\lib\\site-packages\\ipykernel_launcher.py:5: DeprecationWarning: elementwise == comparison failed; this will raise an error in the future.\n",
      "  \"\"\"\n"
     ]
    },
    {
     "ename": "AttributeError",
     "evalue": "'bool' object has no attribute 'astype'",
     "output_type": "error",
     "traceback": [
      "\u001b[1;31m---------------------------------------------------------------------------\u001b[0m",
      "\u001b[1;31mAttributeError\u001b[0m                            Traceback (most recent call last)",
      "\u001b[1;32m<ipython-input-49-576e4101c25f>\u001b[0m in \u001b[0;36m<module>\u001b[1;34m()\u001b[0m\n\u001b[0;32m      2\u001b[0m \u001b[0my_pred\u001b[0m \u001b[1;33m=\u001b[0m \u001b[0mnp\u001b[0m\u001b[1;33m.\u001b[0m\u001b[0marray\u001b[0m\u001b[1;33m(\u001b[0m\u001b[0my_test\u001b[0m\u001b[1;33m)\u001b[0m\u001b[1;33m\u001b[0m\u001b[0m\n\u001b[0;32m      3\u001b[0m \u001b[1;33m\u001b[0m\u001b[0m\n\u001b[1;32m----> 4\u001b[1;33m \u001b[0mget_dcg\u001b[0m\u001b[1;33m(\u001b[0m\u001b[0my_pred\u001b[0m\u001b[1;33m=\u001b[0m\u001b[0my_pred\u001b[0m\u001b[1;33m,\u001b[0m \u001b[0my_true\u001b[0m\u001b[1;33m=\u001b[0m\u001b[0my_true\u001b[0m\u001b[1;33m)\u001b[0m\u001b[1;33m\u001b[0m\u001b[0m\n\u001b[0m",
      "\u001b[1;32m<ipython-input-41-05dfb0d87a70>\u001b[0m in \u001b[0;36mget_dcg\u001b[1;34m(y_pred, y_true)\u001b[0m\n\u001b[0;32m      3\u001b[0m \u001b[1;33m\u001b[0m\u001b[0m\n\u001b[0;32m      4\u001b[0m \u001b[1;32mdef\u001b[0m \u001b[0mget_dcg\u001b[0m\u001b[1;33m(\u001b[0m\u001b[0my_pred\u001b[0m\u001b[1;33m,\u001b[0m \u001b[0my_true\u001b[0m\u001b[1;33m)\u001b[0m\u001b[1;33m:\u001b[0m\u001b[1;33m\u001b[0m\u001b[0m\n\u001b[1;32m----> 5\u001b[1;33m     \u001b[0mdcg5\u001b[0m \u001b[1;33m=\u001b[0m \u001b[1;33m(\u001b[0m\u001b[1;36m2\u001b[0m\u001b[1;33m**\u001b[0m\u001b[1;33m(\u001b[0m\u001b[0my_pred\u001b[0m\u001b[1;33m==\u001b[0m\u001b[0my_true\u001b[0m\u001b[1;33m)\u001b[0m\u001b[1;33m.\u001b[0m\u001b[0mastype\u001b[0m\u001b[1;33m(\u001b[0m\u001b[0mnp\u001b[0m\u001b[1;33m.\u001b[0m\u001b[0mfloat\u001b[0m\u001b[1;33m)\u001b[0m \u001b[1;33m-\u001b[0m\u001b[1;36m1\u001b[0m\u001b[1;33m)\u001b[0m \u001b[1;33m/\u001b[0m\u001b[0mnp\u001b[0m\u001b[1;33m.\u001b[0m\u001b[0mlog2\u001b[0m\u001b[1;33m(\u001b[0m\u001b[0mnp\u001b[0m\u001b[1;33m.\u001b[0m\u001b[0marange\u001b[0m\u001b[1;33m(\u001b[0m\u001b[1;36m1\u001b[0m\u001b[1;33m,\u001b[0m\u001b[0mlen\u001b[0m\u001b[1;33m(\u001b[0m\u001b[0my_pred\u001b[0m\u001b[1;33m)\u001b[0m\u001b[1;33m+\u001b[0m\u001b[1;36m1\u001b[0m\u001b[1;33m)\u001b[0m\u001b[1;33m+\u001b[0m\u001b[1;36m1\u001b[0m\u001b[1;33m)\u001b[0m\u001b[1;33m\u001b[0m\u001b[0m\n\u001b[0m\u001b[0;32m      6\u001b[0m     \u001b[1;32mreturn\u001b[0m \u001b[0msum\u001b[0m\u001b[1;33m(\u001b[0m\u001b[0mdcg5\u001b[0m\u001b[1;33m)\u001b[0m\u001b[1;33m\u001b[0m\u001b[0m\n\u001b[0;32m      7\u001b[0m \u001b[1;33m\u001b[0m\u001b[0m\n",
      "\u001b[1;31mAttributeError\u001b[0m: 'bool' object has no attribute 'astype'"
     ]
    }
   ],
   "source": [
    "y_true = np.array(y_train)\n",
    "y_pred = np.array(y_test)\n",
    "    \n",
    "get_dcg(y_pred=y_pred, y_true=y_true)"
   ]
  },
  {
   "cell_type": "markdown",
   "metadata": {},
   "source": [
    "# Submission fileを書き出す"
   ]
  },
  {
   "cell_type": "code",
   "execution_count": 60,
   "metadata": {
    "collapsed": true
   },
   "outputs": [],
   "source": [
    "# country_dictのKeyとValueを入れ替えた形で辞書を作る\n",
    "country_dict_reverse={v:k for k,v in country_dict.items()}"
   ]
  },
  {
   "cell_type": "code",
   "execution_count": 61,
   "metadata": {
    "collapsed": true
   },
   "outputs": [],
   "source": [
    "#Submission用データを作成\n",
    "submission_data = []\n",
    "for user_id, proba_each in zip(test_id, ypred_proba):\n",
    "    top5_idx = country_idx[np.argsort(proba_each)][::-1][:5]  #Top5の国のインデックスを取得\n",
    "    top5_country = [country_dict_reverse[idx] for idx in top5_idx]\n",
    "    for each_country in top5_country:\n",
    "        tmp_ = [user_id, each_country]\n",
    "        submission_data.append(tmp_)"
   ]
  },
  {
   "cell_type": "code",
   "execution_count": 62,
   "metadata": {
    "collapsed": true
   },
   "outputs": [],
   "source": [
    "#データフレームに変換\n",
    "submission_df = pd.DataFrame(submission_data, columns=['id', 'country'])"
   ]
  },
  {
   "cell_type": "code",
   "execution_count": 63,
   "metadata": {},
   "outputs": [
    {
     "name": "stdout",
     "output_type": "stream",
     "text": [
      "(310480, 2)\n"
     ]
    },
    {
     "data": {
      "text/html": [
       "<div>\n",
       "<style>\n",
       "    .dataframe thead tr:only-child th {\n",
       "        text-align: right;\n",
       "    }\n",
       "\n",
       "    .dataframe thead th {\n",
       "        text-align: left;\n",
       "    }\n",
       "\n",
       "    .dataframe tbody tr th {\n",
       "        vertical-align: top;\n",
       "    }\n",
       "</style>\n",
       "<table border=\"1\" class=\"dataframe\">\n",
       "  <thead>\n",
       "    <tr style=\"text-align: right;\">\n",
       "      <th></th>\n",
       "      <th>id</th>\n",
       "      <th>country</th>\n",
       "    </tr>\n",
       "  </thead>\n",
       "  <tbody>\n",
       "    <tr>\n",
       "      <th>0</th>\n",
       "      <td>5uwns89zht</td>\n",
       "      <td>NDF</td>\n",
       "    </tr>\n",
       "    <tr>\n",
       "      <th>1</th>\n",
       "      <td>5uwns89zht</td>\n",
       "      <td>other</td>\n",
       "    </tr>\n",
       "    <tr>\n",
       "      <th>2</th>\n",
       "      <td>5uwns89zht</td>\n",
       "      <td>US</td>\n",
       "    </tr>\n",
       "    <tr>\n",
       "      <th>3</th>\n",
       "      <td>5uwns89zht</td>\n",
       "      <td>AU</td>\n",
       "    </tr>\n",
       "    <tr>\n",
       "      <th>4</th>\n",
       "      <td>5uwns89zht</td>\n",
       "      <td>CA</td>\n",
       "    </tr>\n",
       "    <tr>\n",
       "      <th>5</th>\n",
       "      <td>jtl0dijy2j</td>\n",
       "      <td>NDF</td>\n",
       "    </tr>\n",
       "    <tr>\n",
       "      <th>6</th>\n",
       "      <td>jtl0dijy2j</td>\n",
       "      <td>other</td>\n",
       "    </tr>\n",
       "    <tr>\n",
       "      <th>7</th>\n",
       "      <td>jtl0dijy2j</td>\n",
       "      <td>US</td>\n",
       "    </tr>\n",
       "    <tr>\n",
       "      <th>8</th>\n",
       "      <td>jtl0dijy2j</td>\n",
       "      <td>AU</td>\n",
       "    </tr>\n",
       "    <tr>\n",
       "      <th>9</th>\n",
       "      <td>jtl0dijy2j</td>\n",
       "      <td>CA</td>\n",
       "    </tr>\n",
       "  </tbody>\n",
       "</table>\n",
       "</div>"
      ],
      "text/plain": [
       "           id country\n",
       "0  5uwns89zht     NDF\n",
       "1  5uwns89zht   other\n",
       "2  5uwns89zht      US\n",
       "3  5uwns89zht      AU\n",
       "4  5uwns89zht      CA\n",
       "5  jtl0dijy2j     NDF\n",
       "6  jtl0dijy2j   other\n",
       "7  jtl0dijy2j      US\n",
       "8  jtl0dijy2j      AU\n",
       "9  jtl0dijy2j      CA"
      ]
     },
     "execution_count": 63,
     "metadata": {},
     "output_type": "execute_result"
    }
   ],
   "source": [
    "print(submission_df.shape)\n",
    "submission_df.head(10)"
   ]
  },
  {
   "cell_type": "code",
   "execution_count": 64,
   "metadata": {
    "collapsed": true
   },
   "outputs": [],
   "source": [
    "#csvファイルに書き出す\n",
    "submission_df.to_csv(\"C:/Users/kashiwabara_a/Desktop/text books/20180310_machine-learning-project-master/HW/Airbnb_benchmark_submission5.csv\",index=False)"
   ]
  },
  {
   "cell_type": "code",
   "execution_count": null,
   "metadata": {
    "collapsed": true
   },
   "outputs": [],
   "source": []
  }
 ],
 "metadata": {
  "kernelspec": {
   "display_name": "Python 3",
   "language": "python",
   "name": "python3"
  },
  "language_info": {
   "codemirror_mode": {
    "name": "ipython",
    "version": 3
   },
   "file_extension": ".py",
   "mimetype": "text/x-python",
   "name": "python",
   "nbconvert_exporter": "python",
   "pygments_lexer": "ipython3",
   "version": "3.6.3"
  }
 },
 "nbformat": 4,
 "nbformat_minor": 2
}
